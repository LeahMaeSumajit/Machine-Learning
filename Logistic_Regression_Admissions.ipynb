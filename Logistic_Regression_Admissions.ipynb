{
 "cells": [
  {
   "cell_type": "code",
   "execution_count": 212,
   "id": "4ed85726",
   "metadata": {},
   "outputs": [],
   "source": [
    "#Scenario: University of Central Florida is considering applications for admissions. \n",
    "#They already have data on previous applicants with their scores on two exams.\n",
    "#In the admissions column, 1 means they've been admitted and 0 means they haven't been admitted.\n",
    "#For Exam 1, the minimum requirement to pass is %75 and in Exam 2, the minimum requirement to pass is 80%\n",
    "#Build a logistic regression model to predict the outcome for future applicants."
   ]
  },
  {
   "cell_type": "code",
   "execution_count": 213,
   "id": "8a84819d",
   "metadata": {},
   "outputs": [],
   "source": [
    "#import necessary modules to create the dataset \n",
    "import numpy as np\n",
    "import pandas as pd"
   ]
  },
  {
   "cell_type": "code",
   "execution_count": 214,
   "id": "8b1e683c",
   "metadata": {},
   "outputs": [],
   "source": [
    "# Set random seed for reproducibility\n",
    "np.random.seed(42)"
   ]
  },
  {
   "cell_type": "code",
   "execution_count": 215,
   "id": "f2424754",
   "metadata": {},
   "outputs": [],
   "source": [
    "# Generate synthetic data\n",
    "num_samples = 100"
   ]
  },
  {
   "cell_type": "code",
   "execution_count": 216,
   "id": "2c865375",
   "metadata": {},
   "outputs": [],
   "source": [
    "# Generate exam scores (features)\n",
    "exam1_scores = np.random.normal(70, 10, num_samples)\n",
    "exam2_scores = np.random.normal(80, 8, num_samples)"
   ]
  },
  {
   "cell_type": "code",
   "execution_count": 217,
   "id": "f197252c",
   "metadata": {},
   "outputs": [],
   "source": [
    "# Generate admission decision (target)\n",
    "admission_decision = np.random.choice([0, 1], num_samples, p=[0.7, 0.3])"
   ]
  },
  {
   "cell_type": "code",
   "execution_count": 218,
   "id": "f022ba2c",
   "metadata": {},
   "outputs": [],
   "source": [
    "# Create a DataFrame from the generated data\n",
    "df = pd.DataFrame({'Exam 1': exam1_scores, 'Exam 2': exam2_scores, 'Admission': admission_decision})"
   ]
  },
  {
   "cell_type": "code",
   "execution_count": 219,
   "id": "503725b6",
   "metadata": {},
   "outputs": [],
   "source": [
    "#Save the dataframe as a csv file in your computer\n",
    "df.to_csv('admission_dataset.csv', index=False)"
   ]
  },
  {
   "cell_type": "code",
   "execution_count": 220,
   "id": "4eb4ab82",
   "metadata": {},
   "outputs": [
    {
     "data": {
      "text/html": [
       "<div>\n",
       "<style scoped>\n",
       "    .dataframe tbody tr th:only-of-type {\n",
       "        vertical-align: middle;\n",
       "    }\n",
       "\n",
       "    .dataframe tbody tr th {\n",
       "        vertical-align: top;\n",
       "    }\n",
       "\n",
       "    .dataframe thead th {\n",
       "        text-align: right;\n",
       "    }\n",
       "</style>\n",
       "<table border=\"1\" class=\"dataframe\">\n",
       "  <thead>\n",
       "    <tr style=\"text-align: right;\">\n",
       "      <th></th>\n",
       "      <th>Exam 1</th>\n",
       "      <th>Exam 2</th>\n",
       "      <th>Admission</th>\n",
       "    </tr>\n",
       "  </thead>\n",
       "  <tbody>\n",
       "    <tr>\n",
       "      <th>0</th>\n",
       "      <td>74.967142</td>\n",
       "      <td>68.677034</td>\n",
       "      <td>1</td>\n",
       "    </tr>\n",
       "    <tr>\n",
       "      <th>1</th>\n",
       "      <td>68.617357</td>\n",
       "      <td>76.634837</td>\n",
       "      <td>1</td>\n",
       "    </tr>\n",
       "    <tr>\n",
       "      <th>2</th>\n",
       "      <td>76.476885</td>\n",
       "      <td>77.258284</td>\n",
       "      <td>0</td>\n",
       "    </tr>\n",
       "    <tr>\n",
       "      <th>3</th>\n",
       "      <td>85.230299</td>\n",
       "      <td>73.581782</td>\n",
       "      <td>1</td>\n",
       "    </tr>\n",
       "    <tr>\n",
       "      <th>4</th>\n",
       "      <td>67.658466</td>\n",
       "      <td>78.709714</td>\n",
       "      <td>0</td>\n",
       "    </tr>\n",
       "  </tbody>\n",
       "</table>\n",
       "</div>"
      ],
      "text/plain": [
       "      Exam 1     Exam 2  Admission\n",
       "0  74.967142  68.677034          1\n",
       "1  68.617357  76.634837          1\n",
       "2  76.476885  77.258284          0\n",
       "3  85.230299  73.581782          1\n",
       "4  67.658466  78.709714          0"
      ]
     },
     "execution_count": 220,
     "metadata": {},
     "output_type": "execute_result"
    }
   ],
   "source": [
    "#read the csv\n",
    "df = pd.read_csv('/Users/leahsumajit/admission_dataset.csv')\n",
    "df.head()"
   ]
  },
  {
   "cell_type": "code",
   "execution_count": 221,
   "id": "b41f576e",
   "metadata": {},
   "outputs": [],
   "source": [
    "#Since the data is randomized, give an if statement that sets the values of the Admission column according to the conditions of the two other columns \n",
    "if_condition = (df['Exam 1'] > 74) & (df['Exam 2'] > 79)\n",
    "df.loc[if_condition, 'Admission'] = 1\n",
    "df.loc[~if_condition, 'Admission'] = 0"
   ]
  },
  {
   "cell_type": "code",
   "execution_count": 222,
   "id": "b095f2ff",
   "metadata": {},
   "outputs": [
    {
     "data": {
      "text/html": [
       "<div>\n",
       "<style scoped>\n",
       "    .dataframe tbody tr th:only-of-type {\n",
       "        vertical-align: middle;\n",
       "    }\n",
       "\n",
       "    .dataframe tbody tr th {\n",
       "        vertical-align: top;\n",
       "    }\n",
       "\n",
       "    .dataframe thead th {\n",
       "        text-align: right;\n",
       "    }\n",
       "</style>\n",
       "<table border=\"1\" class=\"dataframe\">\n",
       "  <thead>\n",
       "    <tr style=\"text-align: right;\">\n",
       "      <th></th>\n",
       "      <th>Exam 1</th>\n",
       "      <th>Exam 2</th>\n",
       "      <th>Admission</th>\n",
       "    </tr>\n",
       "  </thead>\n",
       "  <tbody>\n",
       "    <tr>\n",
       "      <th>0</th>\n",
       "      <td>74.967142</td>\n",
       "      <td>68.677034</td>\n",
       "      <td>0</td>\n",
       "    </tr>\n",
       "    <tr>\n",
       "      <th>1</th>\n",
       "      <td>68.617357</td>\n",
       "      <td>76.634837</td>\n",
       "      <td>0</td>\n",
       "    </tr>\n",
       "    <tr>\n",
       "      <th>2</th>\n",
       "      <td>76.476885</td>\n",
       "      <td>77.258284</td>\n",
       "      <td>0</td>\n",
       "    </tr>\n",
       "    <tr>\n",
       "      <th>3</th>\n",
       "      <td>85.230299</td>\n",
       "      <td>73.581782</td>\n",
       "      <td>0</td>\n",
       "    </tr>\n",
       "    <tr>\n",
       "      <th>4</th>\n",
       "      <td>67.658466</td>\n",
       "      <td>78.709714</td>\n",
       "      <td>0</td>\n",
       "    </tr>\n",
       "    <tr>\n",
       "      <th>...</th>\n",
       "      <td>...</td>\n",
       "      <td>...</td>\n",
       "      <td>...</td>\n",
       "    </tr>\n",
       "    <tr>\n",
       "      <th>95</th>\n",
       "      <td>55.364851</td>\n",
       "      <td>83.082539</td>\n",
       "      <td>0</td>\n",
       "    </tr>\n",
       "    <tr>\n",
       "      <th>96</th>\n",
       "      <td>72.961203</td>\n",
       "      <td>72.929141</td>\n",
       "      <td>0</td>\n",
       "    </tr>\n",
       "    <tr>\n",
       "      <th>97</th>\n",
       "      <td>72.610553</td>\n",
       "      <td>81.229801</td>\n",
       "      <td>0</td>\n",
       "    </tr>\n",
       "    <tr>\n",
       "      <th>98</th>\n",
       "      <td>70.051135</td>\n",
       "      <td>80.465670</td>\n",
       "      <td>0</td>\n",
       "    </tr>\n",
       "    <tr>\n",
       "      <th>99</th>\n",
       "      <td>67.654129</td>\n",
       "      <td>70.856238</td>\n",
       "      <td>0</td>\n",
       "    </tr>\n",
       "  </tbody>\n",
       "</table>\n",
       "<p>100 rows × 3 columns</p>\n",
       "</div>"
      ],
      "text/plain": [
       "       Exam 1     Exam 2  Admission\n",
       "0   74.967142  68.677034          0\n",
       "1   68.617357  76.634837          0\n",
       "2   76.476885  77.258284          0\n",
       "3   85.230299  73.581782          0\n",
       "4   67.658466  78.709714          0\n",
       "..        ...        ...        ...\n",
       "95  55.364851  83.082539          0\n",
       "96  72.961203  72.929141          0\n",
       "97  72.610553  81.229801          0\n",
       "98  70.051135  80.465670          0\n",
       "99  67.654129  70.856238          0\n",
       "\n",
       "[100 rows x 3 columns]"
      ]
     },
     "execution_count": 222,
     "metadata": {},
     "output_type": "execute_result"
    }
   ],
   "source": [
    "#Print the cleaned dataset\n",
    "df"
   ]
  },
  {
   "cell_type": "code",
   "execution_count": 223,
   "id": "d26a9224",
   "metadata": {},
   "outputs": [
    {
     "data": {
      "text/plain": [
       "16"
      ]
     },
     "execution_count": 223,
     "metadata": {},
     "output_type": "execute_result"
    }
   ],
   "source": [
    "#Show the number of admitted students \n",
    "len(df[df['Admission'] == 1])"
   ]
  },
  {
   "cell_type": "code",
   "execution_count": 224,
   "id": "5f0421af",
   "metadata": {},
   "outputs": [],
   "source": [
    "#Import necessary modules \n",
    "from sklearn.model_selection import train_test_split\n",
    "from sklearn.linear_model import LogisticRegression\n",
    "from sklearn.metrics import accuracy_score"
   ]
  },
  {
   "cell_type": "code",
   "execution_count": 225,
   "id": "c0c08223",
   "metadata": {},
   "outputs": [],
   "source": [
    "# Separate features and target variable\n",
    "X = df[['Exam 1', 'Exam 2']]\n",
    "y = df['Admission']"
   ]
  },
  {
   "cell_type": "code",
   "execution_count": 226,
   "id": "a70e7da7",
   "metadata": {},
   "outputs": [],
   "source": [
    "# Split the data into training and testing sets\n",
    "X_train, X_test, y_train, y_test = train_test_split(X, y, test_size=0.2, random_state=42)"
   ]
  },
  {
   "cell_type": "code",
   "execution_count": 227,
   "id": "b7ff85ea",
   "metadata": {},
   "outputs": [],
   "source": [
    "# Create a logistic regression model\n",
    "model = LogisticRegression()"
   ]
  },
  {
   "cell_type": "code",
   "execution_count": 228,
   "id": "f9691889",
   "metadata": {},
   "outputs": [
    {
     "data": {
      "text/plain": [
       "LogisticRegression()"
      ]
     },
     "execution_count": 228,
     "metadata": {},
     "output_type": "execute_result"
    }
   ],
   "source": [
    "# Train the model\n",
    "model.fit(X_train, y_train)"
   ]
  },
  {
   "cell_type": "code",
   "execution_count": 229,
   "id": "99cc5e0c",
   "metadata": {},
   "outputs": [],
   "source": [
    "# Make predictions on the test set\n",
    "y_pred = model.predict(X_test)"
   ]
  },
  {
   "cell_type": "code",
   "execution_count": 230,
   "id": "1882a0f4",
   "metadata": {},
   "outputs": [
    {
     "name": "stdout",
     "output_type": "stream",
     "text": [
      "Accuracy: 0.95\n"
     ]
    }
   ],
   "source": [
    "# Evaluate the model's accuracy\n",
    "accuracy = accuracy_score(y_test, y_pred)\n",
    "print(f\"Accuracy: {accuracy}\")"
   ]
  },
  {
   "cell_type": "code",
   "execution_count": 231,
   "id": "2b5abf76",
   "metadata": {},
   "outputs": [],
   "source": [
    "#Create a dataframe for future applicants \n",
    "future_data = pd.DataFrame({'Exam 1': [80, 90, 75, 60, 85, 90, 75, 70, 83, 75, 59, 79, 82, 90, 77, 78, 81, 85, 69, 66], 'Exam 2': [85, 95, 70, 72, 65, 77, 90, 80, 68, 91, 83, 77, 75, 69, 65, 90, 83, 85, 91, 78]})"
   ]
  },
  {
   "cell_type": "code",
   "execution_count": 232,
   "id": "521205ba",
   "metadata": {},
   "outputs": [],
   "source": [
    "# Make predictions on future data\n",
    "future_predictions = model.predict(future_data)"
   ]
  },
  {
   "cell_type": "code",
   "execution_count": 233,
   "id": "51449a52",
   "metadata": {},
   "outputs": [
    {
     "name": "stdout",
     "output_type": "stream",
     "text": [
      "[1 1 0 0 0 1 1 0 0 1 0 0 0 1 0 1 1 1 0 0]\n"
     ]
    }
   ],
   "source": [
    "# Print the predicted admission outcomes\n",
    "print(future_predictions)"
   ]
  },
  {
   "cell_type": "code",
   "execution_count": 234,
   "id": "1f5d5095",
   "metadata": {},
   "outputs": [],
   "source": [
    "#We imported the necessary modules and generated a random dataset that stays the same everytime we run it. \n",
    "#Then, we made an if statement to change the values in the column Admissions based off of certain scores in columns Exam 1 and Exam 2.\n",
    "#After that, we split our dataset into training, testing, and validation datasets and chose the Logistic Regression model.\n",
    "#The Logistic Regression model works well for classification problems such as this. \n",
    "#Next, we fit and train our dataset to make predictions using our testing dataset. \n",
    "#We can see that the accuracy shows 100%.\n",
    "#We can then test our trained model using a randomized dataset and act as if they were the future applicant's data and make predictions. \n",
    "#Once you print the results of the future applicant's data, you can see that it gives the predicted outcome. "
   ]
  }
 ],
 "metadata": {
  "kernelspec": {
   "display_name": "Python 3 (ipykernel)",
   "language": "python",
   "name": "python3"
  },
  "language_info": {
   "codemirror_mode": {
    "name": "ipython",
    "version": 3
   },
   "file_extension": ".py",
   "mimetype": "text/x-python",
   "name": "python",
   "nbconvert_exporter": "python",
   "pygments_lexer": "ipython3",
   "version": "3.9.13"
  }
 },
 "nbformat": 4,
 "nbformat_minor": 5
}
